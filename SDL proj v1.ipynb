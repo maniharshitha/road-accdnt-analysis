{
 "cells": [
  {
   "cell_type": "code",
   "execution_count": 1,
   "metadata": {
    "scrolled": false
   },
   "outputs": [],
   "source": [
    "import pandas as pd\n",
    "from matplotlib import pyplot as plt\n",
    "%matplotlib inline\n",
    "import numpy as np\n",
    "from sklearn.linear_model import LinearRegression\n",
    "\n",
    "data = pd.read_csv('road-accidents-in-india/only_road_accidents_data3.csv')\n",
    "\n"
   ]
  },
  {
   "cell_type": "code",
   "execution_count": null,
   "metadata": {},
   "outputs": [],
   "source": [
    "i=0\n",
    "data = data.drop('Total',1)\n",
    "new_data = pd.DataFrame(columns = ['STATE/UT','YEAR','TIME','ACCIDENTS'],index = np.arange(10000))\n",
    "for states in data['STATE/UT'].unique():\n",
    "    for year in data['YEAR'].unique():\n",
    "        for time in data.columns[2:]:\n",
    "            new_data.loc[i,'STATE/UT']= states\n",
    "            new_data.loc[i,'YEAR']= year\n",
    "            new_data.loc[i,'TIME']= time\n",
    "            i=i+1   "
   ]
  },
  {
   "cell_type": "code",
   "execution_count": null,
   "metadata": {},
   "outputs": [],
   "source": [
    "# new_data.head()\n",
    "\n",
    "j=0\n",
    "for i in data.index:\n",
    "    for time in data.columns[2:]:\n",
    "        new_data.loc[j,'ACCIDENTS'] = data.loc[i,time]\n",
    "        j=j+1\n",
    "    \n",
    "\n",
    "new_data.head()\n",
    "new_data = new_data.dropna(how='all',axis=0)\n",
    "new_data.head()"
   ]
  },
  {
   "cell_type": "code",
   "execution_count": null,
   "metadata": {},
   "outputs": [],
   "source": [
    "#new_data.to_csv('Prepared data v1.csv')\n",
    "\n",
    "\n",
    "\n",
    "\n",
    "\n",
    "cnt =0\n",
    "for states in new_data['STATE/UT'].unique():\n",
    "    for i in new_data.index :\n",
    "        if new_data.loc[i,'STATE/UT'] == states:\n",
    "            cnt=cnt+1\n",
    "        \n",
    "    #print(states +' has '+str(cnt)+' data items')\n",
    "    cnt=0\n",
    "data = pd.read_csv('road-accidents-in-india/only_road_accidents_data3.csv')\n",
    "\n",
    "#to find the timespan of max and min accidents\n",
    "c= []\n",
    "cnt = 0\n",
    "for time in data.columns[2:10]:\n",
    "    for i in data.index:\n",
    "        cnt  = cnt + data.loc[i,time]\n",
    "    time_acc = (time,cnt)\n",
    "    cnt=0\n",
    "    c.append(time_acc)\n",
    "print(c) \n",
    "x = c[0]\n",
    "y = c[0]\n",
    "for i in c:\n",
    "    if i[1]>x[1]:\n",
    "        x = i\n",
    "    if i[1] <y[1]:\n",
    "        y=i\n",
    "        \n",
    "print(\"Timespan of maximum accidents:\"+ str(x))\n",
    "print(\"Timespan of minimum accidents:\" + str(y))\n",
    "\n",
    "#to find state with max and min accidents occured"
   ]
  },
  {
   "cell_type": "code",
   "execution_count": 2,
   "metadata": {},
   "outputs": [
    {
     "name": "stdout",
     "output_type": "stream",
     "text": [
      "[('0-3 hrs. (Night)', 390197), ('3-6 hrs. (Night)', 474926), ('6-9 hrs (Day)', 671864), ('9-12 hrs (Day)', 859444), ('12-15 hrs (Day)', 824089), ('15-18 hrs (Day)', 906639), ('18-21 hrs (Night)', 873630), ('21-24 hrs (Night)', 602117)]\n",
      "Timespan of maximum accidents:('15-18 hrs (Day)', 906639)\n",
      "Timespan of minimum accidents:('0-3 hrs. (Night)', 390197)\n",
      "State with maximum accidents:('Tamil Nadu', 852073)\n",
      "State with minimum accidents:('Lakshadweep', 14)\n",
      "[(2001, 323720), (2002, 335707), (2003, 336468), (2004, 361343), (2005, 390378), (2006, 394432), (2007, 418657), (2008, 415855), (2009, 421628), (2010, 430654), (2011, 440123), (2012, 440042), (2013, 443001), (2014, 450898)]\n",
      "Year with maximum accidents:(2014, 450898)\n",
      "Year with minimum accidents:(2001, 323720)\n"
     ]
    }
   ],
   "source": [
    "d= []\n",
    "cnt1 = 0\n",
    "for state in data['STATE/UT'].unique():\n",
    "    for i in data.index:\n",
    "        if data.loc[i,'STATE/UT'] == state:\n",
    "            cnt1 = cnt1 + data.loc[i,'Total'] \n",
    "    state_acc = (state,cnt1)\n",
    "    cnt1=0\n",
    "    d.append(state_acc)\n",
    "#print(c) \n",
    "x = d[0]\n",
    "y = d[0]\n",
    "for i in d:\n",
    "    if i[1]>x[1]:\n",
    "        x = i\n",
    "    if i[1] <y[1]:\n",
    "        y=i\n",
    "print(\"State with maximum accidents:\"+ str(x))\n",
    "print(\"State with minimum accidents:\" + str(y))       \n",
    "        \n",
    "\n",
    "#to find year with max and min accidents occured\n",
    "e= []\n",
    "cnt2 = 0\n",
    "for year in data['YEAR'].unique():\n",
    "    for i in data.index:\n",
    "        if data.loc[i,'YEAR'] == year:\n",
    "            cnt2 = cnt2 + data.loc[i,'Total'] \n",
    "    year_acc = (year,cnt2)\n",
    "    cnt2=0\n",
    "    e.append(year_acc)\n",
    "#print(c) \n",
    "x = e[0]\n",
    "y = e[0]\n",
    "for i in e:\n",
    "    if i[1]>x[1]:\n",
    "        x = i\n",
    "    if i[1] <y[1]:\n",
    "        y=i\n",
    "print(e)\n",
    "print(\"Year with maximum accidents:\"+ str(x))\n",
    "print(\"Year with minimum accidents:\" + str(y))    "
   ]
  },
  {
   "cell_type": "code",
   "execution_count": null,
   "metadata": {},
   "outputs": [],
   "source": []
  },
  {
   "cell_type": "code",
   "execution_count": 4,
   "metadata": {},
   "outputs": [
    {
     "data": {
      "image/png": "[encoded data removed]",
      "text/plain": [
       "<Figure size 432x288 with 1 Axes>"
      ]
     },
     "metadata": {
      "needs_background": "light"
     },
     "output_type": "display_data"
    }
   ],
   "source": [
    "model = LinearRegression()\n",
    "X_data = np.array([t[0] for t in e])\n",
    "Y_data = np.array([y[1] for y in e])\n",
    "\n",
    "model.fit(X_data.reshape(len(X_data),1),Y_data.reshape(len(Y_data),1))\n",
    "plt.scatter(X_data,Y_data,color='black')\n",
    "#plt.plot(model.predict(x.reshape(len(x),1)))\n",
    "plt.plot(X_data,model.predict(X_data.reshape(len(X_data),1)),color='blue')\n",
    "plt.xlabel('Year')\n",
    "plt.ylabel('Year')\n",
    "plt.savefig(\"reg.png\")"
   ]
  },
  {
   "cell_type": "code",
   "execution_count": 4,
   "metadata": {},
   "outputs": [
    {
     "data": {
      "text/plain": [
       "<matplotlib.collections.PathCollection at 0x7fec3fd0da90>"
      ]
     },
     "execution_count": 4,
     "metadata": {},
     "output_type": "execute_result"
    },
    {
     "data": {
      "image/png": "[encoded data removed]",
      "text/plain": [
       "<Figure size 432x288 with 1 Axes>"
      ]
     },
     "metadata": {
      "needs_background": "light"
     },
     "output_type": "display_data"
    }
   ],
   "source": [
    "plt.scatter(np.array([t[0] for t in e]),np.array([y[1] for y in e]))"
   ]
  },
  {
   "cell_type": "code",
   "execution_count": 5,
   "metadata": {},
   "outputs": [
    {
     "data": {
      "text/plain": [
       "array([[475987.9010989]])"
      ]
     },
     "execution_count": 5,
     "metadata": {},
     "output_type": "execute_result"
    }
   ],
   "source": [
    "model.predict(2015)"
   ]
  }
 ],
 "metadata": {
  "kernelspec": {
   "display_name": "Python 3",
   "language": "python",
   "name": "python3"
  },
  "language_info": {
   "codemirror_mode": {
    "name": "ipython",
    "version": 3
   },
   "file_extension": ".py",
   "mimetype": "text/x-python",
   "name": "python",
   "nbconvert_exporter": "python",
   "pygments_lexer": "ipython3",
   "version": "3.5.2"
  }
 },
 "nbformat": 4,
 "nbformat_minor": 2
}
